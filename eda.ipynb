{
 "cells": [
  {
   "cell_type": "code",
   "execution_count": 1,
   "metadata": {},
   "outputs": [],
   "source": [
    "import pandas as pd\n",
    "import ast\n",
    "import seaborn as sns\n",
    "import re\n",
    "import numpy as np\n",
    "import matplotlib.pyplot as plt\n",
    "import spacy\n",
    "from itertools import chain\n",
    "from collections import Counter\n",
    "\n",
    "import warnings\n",
    "warnings.filterwarnings('ignore')\n",
    "\n",
    "pd.set_option(\"display.max_columns\", None)\n",
    "pd.set_option(\"display.max_colwidth\", 50)\n"
   ]
  },
  {
   "cell_type": "code",
   "execution_count": 2,
   "metadata": {},
   "outputs": [],
   "source": [
    "# functions\n",
    "\n",
    "def nation(textlist):\n",
    "    \"\"\"\n",
    "    get information about recipe nationality\n",
    "    \"\"\"\n",
    "    text = \" \".join(textlist)\n",
    "    processed = nlp(text)\n",
    "    nationalities = list(set(i.text for i in processed.ents if i.label_ == \"NORP\"))\n",
    "    return nationalities\n",
    "\n",
    "\n",
    "def serving_size(original):\n",
    "    \"\"\"\n",
    "    this leaves serving_size as int which is in grams\n",
    "    \"\"\"\n",
    "    new = original[1:]\n",
    "    match = re.findall(r\"\\d+\", new)\n",
    "    if match:\n",
    "        return int(match[0])\n",
    "    return None"
   ]
  },
  {
   "cell_type": "markdown",
   "metadata": {},
   "source": [
    "<h1 style=\"color: #FFAA55;\">Data</h1>\n",
    "Create df merging Recipes_1 and Recipes_2  \n",
    "\n",
    "### Recipes_1\n",
    "with nutrition values  \n",
    "\n",
    "### Recipes_2\n",
    "for using recipes, with servings and ingredient quantity  \n",
    "\n",
    "### Recipes_3\n",
    "for nutrition values"
   ]
  },
  {
   "cell_type": "code",
   "execution_count": 3,
   "metadata": {},
   "outputs": [],
   "source": [
    "df = pd.read_csv(\"./data/master.csv\")"
   ]
  },
  {
   "cell_type": "markdown",
   "metadata": {},
   "source": [
    "<h1 style=\"color: #FFAA55;\">Cleaning</h1>\n"
   ]
  },
  {
   "cell_type": "code",
   "execution_count": 4,
   "metadata": {},
   "outputs": [],
   "source": [
    "# import both datasets\n",
    "df1 = pd.read_csv(\"./data/recipes_3.csv\")\n",
    "df2 = pd.read_csv(\"./data/recipes_2.csv\")"
   ]
  },
  {
   "cell_type": "code",
   "execution_count": 5,
   "metadata": {},
   "outputs": [],
   "source": [
    "# create merged df\n",
    "df1.rename(columns={\"RecipeId\": \"id\"}, inplace=True)\n",
    "df1.drop(columns=[\"AuthorId\", \"AuthorName\"], inplace=True)\n",
    "df = pd.merge(df2, df1, on=\"id\", how=\"left\")"
   ]
  },
  {
   "cell_type": "code",
   "execution_count": 6,
   "metadata": {},
   "outputs": [],
   "source": [
    "# clean df\n",
    "df.drop(columns=[\"name\", \"Description\", \"ReviewCount\", \"RecipeYield\", \"RecipeIngredientParts\", \"RecipeInstructions\", \"RecipeServings\"], inplace=True)\n",
    "df.columns = [columns.lower().replace(\" \", \"_\") for columns in df.columns]"
   ]
  },
  {
   "cell_type": "code",
   "execution_count": 7,
   "metadata": {},
   "outputs": [],
   "source": [
    "df[\"serving_size\"] = df[\"serving_size\"].apply(serving_size)"
   ]
  },
  {
   "cell_type": "code",
   "execution_count": 8,
   "metadata": {},
   "outputs": [],
   "source": [
    "df[\"new_tags\"] = df[\"tags\"].apply(lambda x: ast.literal_eval(x))"
   ]
  },
  {
   "cell_type": "code",
   "execution_count": 9,
   "metadata": {},
   "outputs": [],
   "source": [
    "# cleaning integer columns (time)\n",
    "\n",
    "def times(x):\n",
    "    if pd.notnull(x):\n",
    "        y = x.replace(\"PT\", \"\")\n",
    "        return y\n",
    "    return None\n",
    "\n",
    "df[\"cooktime\"] = df[\"cooktime\"].apply(times)\n",
    "df[\"preptime\"] = df[\"preptime\"].apply(times)\n",
    "df[\"totaltime\"] = df[\"totaltime\"].apply(times)"
   ]
  },
  {
   "cell_type": "markdown",
   "metadata": {},
   "source": [
    "<h1 style=\"color: #FFAA55;\">Feature Engineering</h1>"
   ]
  },
  {
   "cell_type": "code",
   "execution_count": null,
   "metadata": {},
   "outputs": [],
   "source": [
    "# takes some time\n",
    "\"\"\"\n",
    "# get information about the nationality of the recipe\n",
    "nlp = spacy.load(\"en_core_web_sm\")\n",
    "df[\"nations\"] = df[\"new_tags\"].apply(nation)\n",
    "\"\"\""
   ]
  },
  {
   "cell_type": "code",
   "execution_count": 5,
   "metadata": {},
   "outputs": [],
   "source": [
    "ast.literal_eval(df[\"nations\"][2])\n",
    "\n",
    "def convert_list(x):\n",
    "    return ast.literal_eval(x)\n",
    "\n",
    "df[\"nations\"] = df[\"nations\"].apply(convert_list)"
   ]
  },
  {
   "cell_type": "code",
   "execution_count": 7,
   "metadata": {},
   "outputs": [],
   "source": [
    "df.to_csv(\"data/master.csv\")"
   ]
  },
  {
   "cell_type": "markdown",
   "metadata": {},
   "source": [
    "<h1 style=\"color: #FFAA55;\">Statistics</h1>"
   ]
  },
  {
   "cell_type": "code",
   "execution_count": 10,
   "metadata": {},
   "outputs": [
    {
     "data": {
      "text/html": [
       "<div>\n",
       "<style scoped>\n",
       "    .dataframe tbody tr th:only-of-type {\n",
       "        vertical-align: middle;\n",
       "    }\n",
       "\n",
       "    .dataframe tbody tr th {\n",
       "        vertical-align: top;\n",
       "    }\n",
       "\n",
       "    .dataframe thead th {\n",
       "        text-align: right;\n",
       "    }\n",
       "</style>\n",
       "<table border=\"1\" class=\"dataframe\">\n",
       "  <thead>\n",
       "    <tr style=\"text-align: right;\">\n",
       "      <th></th>\n",
       "      <th>count</th>\n",
       "      <th>mean</th>\n",
       "      <th>std</th>\n",
       "      <th>min</th>\n",
       "      <th>25%</th>\n",
       "      <th>50%</th>\n",
       "      <th>75%</th>\n",
       "      <th>max</th>\n",
       "    </tr>\n",
       "  </thead>\n",
       "  <tbody>\n",
       "    <tr>\n",
       "      <th>id</th>\n",
       "      <td>494963.0</td>\n",
       "      <td>268932.473191</td>\n",
       "      <td>154558.312287</td>\n",
       "      <td>38.0</td>\n",
       "      <td>135085.5</td>\n",
       "      <td>267958.0</td>\n",
       "      <td>402274.5</td>\n",
       "      <td>537804.0</td>\n",
       "    </tr>\n",
       "    <tr>\n",
       "      <th>serving_size</th>\n",
       "      <td>494963.0</td>\n",
       "      <td>375.065344</td>\n",
       "      <td>2702.043601</td>\n",
       "      <td>0.0</td>\n",
       "      <td>122.0</td>\n",
       "      <td>219.0</td>\n",
       "      <td>381.0</td>\n",
       "      <td>1595816.0</td>\n",
       "    </tr>\n",
       "    <tr>\n",
       "      <th>servings</th>\n",
       "      <td>494963.0</td>\n",
       "      <td>7.063164</td>\n",
       "      <td>94.677417</td>\n",
       "      <td>1.0</td>\n",
       "      <td>4.0</td>\n",
       "      <td>4.0</td>\n",
       "      <td>8.0</td>\n",
       "      <td>32767.0</td>\n",
       "    </tr>\n",
       "    <tr>\n",
       "      <th>aggregatedrating</th>\n",
       "      <td>258307.0</td>\n",
       "      <td>4.629574</td>\n",
       "      <td>0.643114</td>\n",
       "      <td>1.0</td>\n",
       "      <td>4.5</td>\n",
       "      <td>5.0</td>\n",
       "      <td>5.0</td>\n",
       "      <td>5.0</td>\n",
       "    </tr>\n",
       "    <tr>\n",
       "      <th>calories</th>\n",
       "      <td>494949.0</td>\n",
       "      <td>487.296062</td>\n",
       "      <td>1417.104646</td>\n",
       "      <td>0.0</td>\n",
       "      <td>179.0</td>\n",
       "      <td>321.2</td>\n",
       "      <td>530.9</td>\n",
       "      <td>612854.6</td>\n",
       "    </tr>\n",
       "    <tr>\n",
       "      <th>fatcontent</th>\n",
       "      <td>494949.0</td>\n",
       "      <td>24.839080</td>\n",
       "      <td>113.142935</td>\n",
       "      <td>0.0</td>\n",
       "      <td>5.9</td>\n",
       "      <td>14.0</td>\n",
       "      <td>27.6</td>\n",
       "      <td>64368.1</td>\n",
       "    </tr>\n",
       "    <tr>\n",
       "      <th>saturatedfatcontent</th>\n",
       "      <td>494949.0</td>\n",
       "      <td>9.673535</td>\n",
       "      <td>46.877944</td>\n",
       "      <td>0.0</td>\n",
       "      <td>1.6</td>\n",
       "      <td>4.8</td>\n",
       "      <td>10.9</td>\n",
       "      <td>26740.6</td>\n",
       "    </tr>\n",
       "    <tr>\n",
       "      <th>cholesterolcontent</th>\n",
       "      <td>494949.0</td>\n",
       "      <td>88.349779</td>\n",
       "      <td>308.180545</td>\n",
       "      <td>0.0</td>\n",
       "      <td>5.5</td>\n",
       "      <td>45.5</td>\n",
       "      <td>110.0</td>\n",
       "      <td>130456.4</td>\n",
       "    </tr>\n",
       "    <tr>\n",
       "      <th>sodiumcontent</th>\n",
       "      <td>494949.0</td>\n",
       "      <td>740.142478</td>\n",
       "      <td>3535.812569</td>\n",
       "      <td>0.0</td>\n",
       "      <td>131.3</td>\n",
       "      <td>360.8</td>\n",
       "      <td>796.3</td>\n",
       "      <td>731056.4</td>\n",
       "    </tr>\n",
       "    <tr>\n",
       "      <th>carbohydratecontent</th>\n",
       "      <td>494949.0</td>\n",
       "      <td>49.123498</td>\n",
       "      <td>183.721345</td>\n",
       "      <td>0.0</td>\n",
       "      <td>13.1</td>\n",
       "      <td>28.6</td>\n",
       "      <td>51.3</td>\n",
       "      <td>108294.6</td>\n",
       "    </tr>\n",
       "    <tr>\n",
       "      <th>fibercontent</th>\n",
       "      <td>494949.0</td>\n",
       "      <td>3.873129</td>\n",
       "      <td>7.474302</td>\n",
       "      <td>0.0</td>\n",
       "      <td>0.9</td>\n",
       "      <td>2.2</td>\n",
       "      <td>4.6</td>\n",
       "      <td>1748.6</td>\n",
       "    </tr>\n",
       "    <tr>\n",
       "      <th>sugarcontent</th>\n",
       "      <td>494949.0</td>\n",
       "      <td>21.618455</td>\n",
       "      <td>145.036244</td>\n",
       "      <td>0.0</td>\n",
       "      <td>2.5</td>\n",
       "      <td>6.4</td>\n",
       "      <td>17.8</td>\n",
       "      <td>90682.3</td>\n",
       "    </tr>\n",
       "    <tr>\n",
       "      <th>proteincontent</th>\n",
       "      <td>494949.0</td>\n",
       "      <td>17.823467</td>\n",
       "      <td>40.452220</td>\n",
       "      <td>0.0</td>\n",
       "      <td>3.7</td>\n",
       "      <td>9.6</td>\n",
       "      <td>25.5</td>\n",
       "      <td>18396.2</td>\n",
       "    </tr>\n",
       "  </tbody>\n",
       "</table>\n",
       "</div>"
      ],
      "text/plain": [
       "                        count           mean            std   min       25%  \\\n",
       "id                   494963.0  268932.473191  154558.312287  38.0  135085.5   \n",
       "serving_size         494963.0     375.065344    2702.043601   0.0     122.0   \n",
       "servings             494963.0       7.063164      94.677417   1.0       4.0   \n",
       "aggregatedrating     258307.0       4.629574       0.643114   1.0       4.5   \n",
       "calories             494949.0     487.296062    1417.104646   0.0     179.0   \n",
       "fatcontent           494949.0      24.839080     113.142935   0.0       5.9   \n",
       "saturatedfatcontent  494949.0       9.673535      46.877944   0.0       1.6   \n",
       "cholesterolcontent   494949.0      88.349779     308.180545   0.0       5.5   \n",
       "sodiumcontent        494949.0     740.142478    3535.812569   0.0     131.3   \n",
       "carbohydratecontent  494949.0      49.123498     183.721345   0.0      13.1   \n",
       "fibercontent         494949.0       3.873129       7.474302   0.0       0.9   \n",
       "sugarcontent         494949.0      21.618455     145.036244   0.0       2.5   \n",
       "proteincontent       494949.0      17.823467      40.452220   0.0       3.7   \n",
       "\n",
       "                          50%       75%        max  \n",
       "id                   267958.0  402274.5   537804.0  \n",
       "serving_size            219.0     381.0  1595816.0  \n",
       "servings                  4.0       8.0    32767.0  \n",
       "aggregatedrating          5.0       5.0        5.0  \n",
       "calories                321.2     530.9   612854.6  \n",
       "fatcontent               14.0      27.6    64368.1  \n",
       "saturatedfatcontent       4.8      10.9    26740.6  \n",
       "cholesterolcontent       45.5     110.0   130456.4  \n",
       "sodiumcontent           360.8     796.3   731056.4  \n",
       "carbohydratecontent      28.6      51.3   108294.6  \n",
       "fibercontent              2.2       4.6     1748.6  \n",
       "sugarcontent              6.4      17.8    90682.3  \n",
       "proteincontent            9.6      25.5    18396.2  "
      ]
     },
     "execution_count": 10,
     "metadata": {},
     "output_type": "execute_result"
    }
   ],
   "source": [
    "df.describe().T"
   ]
  },
  {
   "cell_type": "code",
   "execution_count": null,
   "metadata": {},
   "outputs": [],
   "source": []
  },
  {
   "cell_type": "code",
   "execution_count": null,
   "metadata": {},
   "outputs": [],
   "source": []
  },
  {
   "cell_type": "code",
   "execution_count": null,
   "metadata": {},
   "outputs": [],
   "source": []
  },
  {
   "cell_type": "code",
   "execution_count": 11,
   "metadata": {},
   "outputs": [
    {
     "data": {
      "text/html": [
       "<div>\n",
       "<style scoped>\n",
       "    .dataframe tbody tr th:only-of-type {\n",
       "        vertical-align: middle;\n",
       "    }\n",
       "\n",
       "    .dataframe tbody tr th {\n",
       "        vertical-align: top;\n",
       "    }\n",
       "\n",
       "    .dataframe thead th {\n",
       "        text-align: right;\n",
       "    }\n",
       "</style>\n",
       "<table border=\"1\" class=\"dataframe\">\n",
       "  <thead>\n",
       "    <tr style=\"text-align: right;\">\n",
       "      <th></th>\n",
       "      <th>id</th>\n",
       "      <th>description</th>\n",
       "      <th>ingredients</th>\n",
       "      <th>ingredients_raw_str</th>\n",
       "      <th>serving_size</th>\n",
       "      <th>servings</th>\n",
       "      <th>steps</th>\n",
       "      <th>tags</th>\n",
       "      <th>search_terms</th>\n",
       "      <th>name</th>\n",
       "      <th>cooktime</th>\n",
       "      <th>preptime</th>\n",
       "      <th>totaltime</th>\n",
       "      <th>datepublished</th>\n",
       "      <th>images</th>\n",
       "      <th>recipecategory</th>\n",
       "      <th>keywords</th>\n",
       "      <th>recipeingredientquantities</th>\n",
       "      <th>aggregatedrating</th>\n",
       "      <th>calories</th>\n",
       "      <th>fatcontent</th>\n",
       "      <th>saturatedfatcontent</th>\n",
       "      <th>cholesterolcontent</th>\n",
       "      <th>sodiumcontent</th>\n",
       "      <th>carbohydratecontent</th>\n",
       "      <th>fibercontent</th>\n",
       "      <th>sugarcontent</th>\n",
       "      <th>proteincontent</th>\n",
       "      <th>new_tags</th>\n",
       "    </tr>\n",
       "  </thead>\n",
       "  <tbody>\n",
       "    <tr>\n",
       "      <th>0</th>\n",
       "      <td>96313</td>\n",
       "      <td>We love grits, this is another good way to ser...</td>\n",
       "      <td>['water', 'grits', 'salt', 'cheddar cheese', '...</td>\n",
       "      <td>[\"4   cups    water\",\"1   cup   uncooked old f...</td>\n",
       "      <td>155</td>\n",
       "      <td>8</td>\n",
       "      <td>['I a sauce pan, bring water to a boil; slowly...</td>\n",
       "      <td>['time-to-make', 'course', 'main-ingredient', ...</td>\n",
       "      <td>{'diabetic', 'low-calorie', 'vegetarian', 'low...</td>\n",
       "      <td>Grilled Garlic Cheese Grits</td>\n",
       "      <td>PT50M</td>\n",
       "      <td>PT15M</td>\n",
       "      <td>PT1H5M</td>\n",
       "      <td>2004-07-24T20:00:00Z</td>\n",
       "      <td>\"https://img.sndimg.com/food/image/upload/w_55...</td>\n",
       "      <td>Grains</td>\n",
       "      <td>c(\"Cheese\", \"Low Cholesterol\", \"Brunch\", \"Refr...</td>\n",
       "      <td>c(\"4\", \"1\", \"1\", \"4\", \"1 -2\", \"1\")</td>\n",
       "      <td>5.0</td>\n",
       "      <td>144.8</td>\n",
       "      <td>6.7</td>\n",
       "      <td>3.3</td>\n",
       "      <td>14.9</td>\n",
       "      <td>382.7</td>\n",
       "      <td>15.7</td>\n",
       "      <td>0.9</td>\n",
       "      <td>0.2</td>\n",
       "      <td>5.0</td>\n",
       "      <td>[time-to-make, course, main-ingredient, prepar...</td>\n",
       "    </tr>\n",
       "    <tr>\n",
       "      <th>1</th>\n",
       "      <td>232037</td>\n",
       "      <td>Simple, easy and very tasty for when you are i...</td>\n",
       "      <td>['onion', 'red bell pepper', 'garlic cloves', ...</td>\n",
       "      <td>[\"1   medium    onion, chopped coarse \",\"1   m...</td>\n",
       "      <td>366</td>\n",
       "      <td>4</td>\n",
       "      <td>['In a food processor, pulse the onion, red pe...</td>\n",
       "      <td>['60-minutes-or-less', 'time-to-make', 'course...</td>\n",
       "      <td>{'dinner', 'shrimp'}</td>\n",
       "      <td>Simple Shrimp and Andouille Jambalaya</td>\n",
       "      <td>PT25M</td>\n",
       "      <td>PT20M</td>\n",
       "      <td>PT45M</td>\n",
       "      <td>2007-06-03T22:51:00Z</td>\n",
       "      <td>character(0)</td>\n",
       "      <td>One Dish Meal</td>\n",
       "      <td>c(\"Pork\", \"Meat\", \"&lt; 60 Mins\", \"Easy\")</td>\n",
       "      <td>c(\"1\", \"1\", \"5\", \"1\", NA, NA, \"1\", \"3/4\", \"1 1...</td>\n",
       "      <td>5.0</td>\n",
       "      <td>756.5</td>\n",
       "      <td>28.9</td>\n",
       "      <td>9.0</td>\n",
       "      <td>191.8</td>\n",
       "      <td>2094.9</td>\n",
       "      <td>82.3</td>\n",
       "      <td>3.9</td>\n",
       "      <td>9.7</td>\n",
       "      <td>39.2</td>\n",
       "      <td>[60-minutes-or-less, time-to-make, course, mai...</td>\n",
       "    </tr>\n",
       "    <tr>\n",
       "      <th>2</th>\n",
       "      <td>41090</td>\n",
       "      <td>NaN</td>\n",
       "      <td>['white beans', 'canned black beans', 'tomatoe...</td>\n",
       "      <td>[\"1   cup   canned white beans, rinsed and dra...</td>\n",
       "      <td>807</td>\n",
       "      <td>1</td>\n",
       "      <td>['In a large bowl, combine beans, tomato, onio...</td>\n",
       "      <td>['15-minutes-or-less', 'time-to-make', 'course...</td>\n",
       "      <td>{'vegetarian', 'salad', 'side', 'dinner', 'veg...</td>\n",
       "      <td>black-and-white bean salad</td>\n",
       "      <td>NaN</td>\n",
       "      <td>PT5M</td>\n",
       "      <td>PT5M</td>\n",
       "      <td>2002-09-24T22:53:00Z</td>\n",
       "      <td>character(0)</td>\n",
       "      <td>Black Beans</td>\n",
       "      <td>c(\"Beans\", \"Vegan\", \"Potluck\", \"Spring\", \"Summ...</td>\n",
       "      <td>c(\"1\", \"1\", \"1\", \"1\", \"1\", \"1\", \"2\", \"1/8\", \"1...</td>\n",
       "      <td>4.5</td>\n",
       "      <td>159.0</td>\n",
       "      <td>1.6</td>\n",
       "      <td>0.3</td>\n",
       "      <td>0.0</td>\n",
       "      <td>318.3</td>\n",
       "      <td>28.3</td>\n",
       "      <td>8.3</td>\n",
       "      <td>2.1</td>\n",
       "      <td>9.1</td>\n",
       "      <td>[15-minutes-or-less, time-to-make, course, mai...</td>\n",
       "    </tr>\n",
       "    <tr>\n",
       "      <th>3</th>\n",
       "      <td>60656</td>\n",
       "      <td>This is a good recipe for weight watchers. It ...</td>\n",
       "      <td>['zucchini', 'yellow squash', 'diced tomatoes'...</td>\n",
       "      <td>[\"2       zucchini, sliced \",\"2   small    yel...</td>\n",
       "      <td>244</td>\n",
       "      <td>4</td>\n",
       "      <td>['Put all ingredients in the crock pot and coo...</td>\n",
       "      <td>['weeknight', 'time-to-make', 'course', 'main-...</td>\n",
       "      <td>{'side', 'vegetarian', 'italian'}</td>\n",
       "      <td>Crock Pot Italian Zucchini</td>\n",
       "      <td>PT6H</td>\n",
       "      <td>PT10M</td>\n",
       "      <td>PT6H10M</td>\n",
       "      <td>2003-04-22T20:07:00Z</td>\n",
       "      <td>character(0)</td>\n",
       "      <td>Vegetable</td>\n",
       "      <td>c(\"Winter\", \"Weeknight\", \"Beginner Cook\", \"Easy\")</td>\n",
       "      <td>c(\"2\", \"2\", \"2 -3\", \"1\", \"4\", \"1\", \"2\", \"1\", NA)</td>\n",
       "      <td>4.0</td>\n",
       "      <td>47.1</td>\n",
       "      <td>0.4</td>\n",
       "      <td>0.1</td>\n",
       "      <td>0.0</td>\n",
       "      <td>19.1</td>\n",
       "      <td>10.4</td>\n",
       "      <td>2.7</td>\n",
       "      <td>4.6</td>\n",
       "      <td>2.6</td>\n",
       "      <td>[weeknight, time-to-make, course, main-ingredi...</td>\n",
       "    </tr>\n",
       "    <tr>\n",
       "      <th>4</th>\n",
       "      <td>232047</td>\n",
       "      <td>This is a fabulous stew that came from one of ...</td>\n",
       "      <td>['beef stew meat', 'flour', 'salt', 'allspice'...</td>\n",
       "      <td>[\"3   lbs    beef stew meat\",\"3   tablespoons ...</td>\n",
       "      <td>358</td>\n",
       "      <td>8</td>\n",
       "      <td>['Preheat oven to 350°F.', \"Cut beef into 1 in...</td>\n",
       "      <td>['time-to-make', 'course', 'main-ingredient', ...</td>\n",
       "      <td>{'dinner'}</td>\n",
       "      <td>Beef Stew With Dried Cherries</td>\n",
       "      <td>PT2H</td>\n",
       "      <td>PT45M</td>\n",
       "      <td>PT2H45M</td>\n",
       "      <td>2007-06-03T23:06:00Z</td>\n",
       "      <td>character(0)</td>\n",
       "      <td>Stew</td>\n",
       "      <td>c(\"Meat\", \"&lt; 4 Hours\", \"Easy\")</td>\n",
       "      <td>c(\"3\", \"3\", \"1\", \"1/2\", \"1/2\", \"1/2\", \"1\", \"3\"...</td>\n",
       "      <td>NaN</td>\n",
       "      <td>691.1</td>\n",
       "      <td>45.8</td>\n",
       "      <td>17.7</td>\n",
       "      <td>177.1</td>\n",
       "      <td>503.6</td>\n",
       "      <td>14.4</td>\n",
       "      <td>1.6</td>\n",
       "      <td>6.8</td>\n",
       "      <td>48.2</td>\n",
       "      <td>[time-to-make, course, main-ingredient, prepar...</td>\n",
       "    </tr>\n",
       "  </tbody>\n",
       "</table>\n",
       "</div>"
      ],
      "text/plain": [
       "       id                                        description  \\\n",
       "0   96313  We love grits, this is another good way to ser...   \n",
       "1  232037  Simple, easy and very tasty for when you are i...   \n",
       "2   41090                                                NaN   \n",
       "3   60656  This is a good recipe for weight watchers. It ...   \n",
       "4  232047  This is a fabulous stew that came from one of ...   \n",
       "\n",
       "                                         ingredients  \\\n",
       "0  ['water', 'grits', 'salt', 'cheddar cheese', '...   \n",
       "1  ['onion', 'red bell pepper', 'garlic cloves', ...   \n",
       "2  ['white beans', 'canned black beans', 'tomatoe...   \n",
       "3  ['zucchini', 'yellow squash', 'diced tomatoes'...   \n",
       "4  ['beef stew meat', 'flour', 'salt', 'allspice'...   \n",
       "\n",
       "                                 ingredients_raw_str  serving_size  servings  \\\n",
       "0  [\"4   cups    water\",\"1   cup   uncooked old f...           155         8   \n",
       "1  [\"1   medium    onion, chopped coarse \",\"1   m...           366         4   \n",
       "2  [\"1   cup   canned white beans, rinsed and dra...           807         1   \n",
       "3  [\"2       zucchini, sliced \",\"2   small    yel...           244         4   \n",
       "4  [\"3   lbs    beef stew meat\",\"3   tablespoons ...           358         8   \n",
       "\n",
       "                                               steps  \\\n",
       "0  ['I a sauce pan, bring water to a boil; slowly...   \n",
       "1  ['In a food processor, pulse the onion, red pe...   \n",
       "2  ['In a large bowl, combine beans, tomato, onio...   \n",
       "3  ['Put all ingredients in the crock pot and coo...   \n",
       "4  ['Preheat oven to 350°F.', \"Cut beef into 1 in...   \n",
       "\n",
       "                                                tags  \\\n",
       "0  ['time-to-make', 'course', 'main-ingredient', ...   \n",
       "1  ['60-minutes-or-less', 'time-to-make', 'course...   \n",
       "2  ['15-minutes-or-less', 'time-to-make', 'course...   \n",
       "3  ['weeknight', 'time-to-make', 'course', 'main-...   \n",
       "4  ['time-to-make', 'course', 'main-ingredient', ...   \n",
       "\n",
       "                                        search_terms  \\\n",
       "0  {'diabetic', 'low-calorie', 'vegetarian', 'low...   \n",
       "1                               {'dinner', 'shrimp'}   \n",
       "2  {'vegetarian', 'salad', 'side', 'dinner', 'veg...   \n",
       "3                  {'side', 'vegetarian', 'italian'}   \n",
       "4                                         {'dinner'}   \n",
       "\n",
       "                                    name cooktime preptime totaltime  \\\n",
       "0            Grilled Garlic Cheese Grits    PT50M    PT15M    PT1H5M   \n",
       "1  Simple Shrimp and Andouille Jambalaya    PT25M    PT20M     PT45M   \n",
       "2             black-and-white bean salad      NaN     PT5M      PT5M   \n",
       "3             Crock Pot Italian Zucchini     PT6H    PT10M   PT6H10M   \n",
       "4          Beef Stew With Dried Cherries     PT2H    PT45M   PT2H45M   \n",
       "\n",
       "          datepublished                                             images  \\\n",
       "0  2004-07-24T20:00:00Z  \"https://img.sndimg.com/food/image/upload/w_55...   \n",
       "1  2007-06-03T22:51:00Z                                       character(0)   \n",
       "2  2002-09-24T22:53:00Z                                       character(0)   \n",
       "3  2003-04-22T20:07:00Z                                       character(0)   \n",
       "4  2007-06-03T23:06:00Z                                       character(0)   \n",
       "\n",
       "  recipecategory                                           keywords  \\\n",
       "0         Grains  c(\"Cheese\", \"Low Cholesterol\", \"Brunch\", \"Refr...   \n",
       "1  One Dish Meal             c(\"Pork\", \"Meat\", \"< 60 Mins\", \"Easy\")   \n",
       "2    Black Beans  c(\"Beans\", \"Vegan\", \"Potluck\", \"Spring\", \"Summ...   \n",
       "3      Vegetable  c(\"Winter\", \"Weeknight\", \"Beginner Cook\", \"Easy\")   \n",
       "4           Stew                     c(\"Meat\", \"< 4 Hours\", \"Easy\")   \n",
       "\n",
       "                          recipeingredientquantities  aggregatedrating  \\\n",
       "0                 c(\"4\", \"1\", \"1\", \"4\", \"1 -2\", \"1\")               5.0   \n",
       "1  c(\"1\", \"1\", \"5\", \"1\", NA, NA, \"1\", \"3/4\", \"1 1...               5.0   \n",
       "2  c(\"1\", \"1\", \"1\", \"1\", \"1\", \"1\", \"2\", \"1/8\", \"1...               4.5   \n",
       "3   c(\"2\", \"2\", \"2 -3\", \"1\", \"4\", \"1\", \"2\", \"1\", NA)               4.0   \n",
       "4  c(\"3\", \"3\", \"1\", \"1/2\", \"1/2\", \"1/2\", \"1\", \"3\"...               NaN   \n",
       "\n",
       "   calories  fatcontent  saturatedfatcontent  cholesterolcontent  \\\n",
       "0     144.8         6.7                  3.3                14.9   \n",
       "1     756.5        28.9                  9.0               191.8   \n",
       "2     159.0         1.6                  0.3                 0.0   \n",
       "3      47.1         0.4                  0.1                 0.0   \n",
       "4     691.1        45.8                 17.7               177.1   \n",
       "\n",
       "   sodiumcontent  carbohydratecontent  fibercontent  sugarcontent  \\\n",
       "0          382.7                 15.7           0.9           0.2   \n",
       "1         2094.9                 82.3           3.9           9.7   \n",
       "2          318.3                 28.3           8.3           2.1   \n",
       "3           19.1                 10.4           2.7           4.6   \n",
       "4          503.6                 14.4           1.6           6.8   \n",
       "\n",
       "   proteincontent                                           new_tags  \n",
       "0             5.0  [time-to-make, course, main-ingredient, prepar...  \n",
       "1            39.2  [60-minutes-or-less, time-to-make, course, mai...  \n",
       "2             9.1  [15-minutes-or-less, time-to-make, course, mai...  \n",
       "3             2.6  [weeknight, time-to-make, course, main-ingredi...  \n",
       "4            48.2  [time-to-make, course, main-ingredient, prepar...  "
      ]
     },
     "execution_count": 11,
     "metadata": {},
     "output_type": "execute_result"
    }
   ],
   "source": [
    "df.head()"
   ]
  },
  {
   "cell_type": "markdown",
   "metadata": {},
   "source": [
    "<h1 style=\"color: #FFAA55;\">Plots</h1>"
   ]
  },
  {
   "cell_type": "code",
   "execution_count": 12,
   "metadata": {},
   "outputs": [],
   "source": [
    "df_plots = df.dropna(subset=[\"cooktime\", \"preptime\", \"totaltime\", \"datepublished\", \"recipeingredientquantities\", \"calories\"])"
   ]
  },
  {
   "cell_type": "code",
   "execution_count": 13,
   "metadata": {},
   "outputs": [
    {
     "name": "stderr",
     "output_type": "stream",
     "text": [
      "/var/folders/4d/kvxdy8f57vb9008_7qx5gx780000gn/T/ipykernel_6985/3034113187.py:2: SettingWithCopyWarning: \n",
      "A value is trying to be set on a copy of a slice from a DataFrame.\n",
      "Try using .loc[row_indexer,col_indexer] = value instead\n",
      "\n",
      "See the caveats in the documentation: https://pandas.pydata.org/pandas-docs/stable/user_guide/indexing.html#returning-a-view-versus-a-copy\n",
      "  df_plots[\"calories_per_g\"] = df_plots[\"calories\"] / df_plots[\"serving_size\"]\n"
     ]
    },
    {
     "data": {
      "text/plain": [
       "Text(0, 0.5, 'Number of Recipes')"
      ]
     },
     "execution_count": 13,
     "metadata": {},
     "output_type": "execute_result"
    },
    {
     "data": {
      "image/png": "[encoded data removed]",
      "text/plain": [
       "<Figure size 640x480 with 1 Axes>"
      ]
     },
     "metadata": {},
     "output_type": "display_data"
    }
   ],
   "source": [
    "# plot calories per g\n",
    "df_plots[\"calories_per_g\"] = df_plots[\"calories\"] / df_plots[\"serving_size\"]\n",
    "cal_plot = df_plots[df_plots[\"calories_per_g\"] < 10]\n",
    "sns.histplot(cal_plot[\"calories_per_g\"], bins=50)\n",
    "\n",
    "plt.title(\"Calories per g of Meal\")\n",
    "plt.xlabel(\"Calories\")\n",
    "plt.ylabel(\"Number of Recipes\")"
   ]
  },
  {
   "cell_type": "code",
   "execution_count": 14,
   "metadata": {},
   "outputs": [
    {
     "data": {
      "text/plain": [
       "Text(0, 0.5, 'Number of Recipes')"
      ]
     },
     "execution_count": 14,
     "metadata": {},
     "output_type": "execute_result"
    },
    {
     "data": {
      "image/png": "[encoded data removed]",
      "text/plain": [
       "<Figure size 640x480 with 1 Axes>"
      ]
     },
     "metadata": {},
     "output_type": "display_data"
    }
   ],
   "source": [
    "# numbers of different recipes\n",
    "types = df_plots[\"recipecategory\"].value_counts().head(10)\n",
    "\n",
    "sns.barplot(types)\n",
    "plt.title(\"Number of different Meals\")\n",
    "plt.xticks(rotation=45, ha=\"right\")\n",
    "plt.xlabel(\"Category\")\n",
    "plt.ylabel(\"Number of Recipes\")"
   ]
  },
  {
   "cell_type": "code",
   "execution_count": 15,
   "metadata": {},
   "outputs": [
    {
     "data": {
      "text/plain": [
       "Text(0, 0.5, 'Number of Recipes')"
      ]
     },
     "execution_count": 15,
     "metadata": {},
     "output_type": "execute_result"
    },
    {
     "data": {
      "image/png": "[encoded data removed]",
      "text/plain": [
       "<Figure size 640x480 with 1 Axes>"
      ]
     },
     "metadata": {},
     "output_type": "display_data"
    }
   ],
   "source": [
    "# fat per g serving\n",
    "fat = (df_plots[\"fatcontent\"] / df_plots[\"serving_size\"])\n",
    "filtered_fat = fat[fat < 1]\n",
    "sns.histplot(filtered_fat, bins=50)\n",
    "\n",
    "plt.title(\"Amount of fat [%]\")\n",
    "plt.xlabel(\"Fat x100\")\n",
    "plt.ylabel(\"Number of Recipes\")"
   ]
  },
  {
   "cell_type": "code",
   "execution_count": 37,
   "metadata": {},
   "outputs": [
    {
     "data": {
      "text/plain": [
       "Text(0, 0.5, 'Number of Recipes')"
      ]
     },
     "execution_count": 37,
     "metadata": {},
     "output_type": "execute_result"
    },
    {
     "data": {
      "image/png": "[encoded data removed]",
      "text/plain": [
       "<Figure size 640x480 with 1 Axes>"
      ]
     },
     "metadata": {},
     "output_type": "display_data"
    }
   ],
   "source": [
    "# plot nation information\n",
    "nations_flat = list(chain.from_iterable(df[\"nations\"]))\n",
    "counts = pd.Series(nations_flat).value_counts().head(10)\n",
    "sns.barplot(counts)\n",
    "\n",
    "plt.title(\"Number of Recipes from Countries\")\n",
    "plt.xticks(rotation=45, ha=\"right\")\n",
    "plt.xlabel(\"Country\")\n",
    "plt.ylabel(\"Number of Recipes\")"
   ]
  },
  {
   "cell_type": "code",
   "execution_count": null,
   "metadata": {},
   "outputs": [],
   "source": []
  },
  {
   "cell_type": "code",
   "execution_count": null,
   "metadata": {},
   "outputs": [],
   "source": []
  },
  {
   "cell_type": "markdown",
   "metadata": {},
   "source": [
    "<h1 style=\"color: #FFAA55;\">Insights</h1>"
   ]
  },
  {
   "cell_type": "code",
   "execution_count": 16,
   "metadata": {},
   "outputs": [],
   "source": [
    "search = \"american\"\n",
    "searching = df[df[\"new_tags\"].apply(lambda x: search in x)]"
   ]
  },
  {
   "cell_type": "code",
   "execution_count": null,
   "metadata": {},
   "outputs": [],
   "source": []
  },
  {
   "cell_type": "code",
   "execution_count": null,
   "metadata": {},
   "outputs": [],
   "source": []
  },
  {
   "cell_type": "code",
   "execution_count": null,
   "metadata": {},
   "outputs": [],
   "source": []
  },
  {
   "cell_type": "code",
   "execution_count": null,
   "metadata": {},
   "outputs": [],
   "source": []
  },
  {
   "cell_type": "code",
   "execution_count": null,
   "metadata": {},
   "outputs": [],
   "source": []
  },
  {
   "cell_type": "code",
   "execution_count": null,
   "metadata": {},
   "outputs": [],
   "source": []
  }
 ],
 "metadata": {
  "kernelspec": {
   "display_name": "base",
   "language": "python",
   "name": "python3"
  },
  "language_info": {
   "codemirror_mode": {
    "name": "ipython",
    "version": 3
   },
   "file_extension": ".py",
   "mimetype": "text/x-python",
   "name": "python",
   "nbconvert_exporter": "python",
   "pygments_lexer": "ipython3",
   "version": "3.10.16"
  }
 },
 "nbformat": 4,
 "nbformat_minor": 2
}
